{
  "nbformat": 4,
  "nbformat_minor": 0,
  "metadata": {
    "colab": {
      "provenance": []
    },
    "kernelspec": {
      "name": "python3",
      "display_name": "Python 3"
    },
    "language_info": {
      "name": "python"
    },
    "gpuClass": "standard",
    "accelerator": "GPU"
  },
  "cells": [
    {
      "cell_type": "code",
      "execution_count": 1,
      "metadata": {
        "colab": {
          "base_uri": "https://localhost:8080/"
        },
        "id": "JSZou7y7lcKm",
        "outputId": "d0b80414-f3f3-4e8d-e72e-745fc8c49496"
      },
      "outputs": [
        {
          "output_type": "execute_result",
          "data": {
            "text/plain": [
              "array([[0.97072389, 0.01099361, 0.64230679, 0.34719853],\n",
              "       [0.55414622, 0.43238361, 0.79949535, 0.07321716],\n",
              "       [0.82858014, 0.23614676, 0.04221726, 0.80620042],\n",
              "       [0.06116957, 0.08393054, 0.81943114, 0.57540496]])"
            ]
          },
          "metadata": {},
          "execution_count": 1
        }
      ],
      "source": [
        "import numpy as np\n",
        "np.random.random((4,4))"
      ]
    },
    {
      "cell_type": "code",
      "source": [
        "%timeit np.random.random((1000,1000))"
      ],
      "metadata": {
        "colab": {
          "base_uri": "https://localhost:8080/"
        },
        "id": "L4ORtRPsmuOT",
        "outputId": "df602bb8-e75f-45d8-fb69-48b40b4f82d6"
      },
      "execution_count": 2,
      "outputs": [
        {
          "output_type": "stream",
          "name": "stdout",
          "text": [
            "12.1 ms ± 5.11 ms per loop (mean ± std. dev. of 7 runs, 100 loops each)\n"
          ]
        }
      ]
    },
    {
      "cell_type": "code",
      "source": [
        "!ls"
      ],
      "metadata": {
        "colab": {
          "base_uri": "https://localhost:8080/"
        },
        "id": "XM0HHq51nLT0",
        "outputId": "722f0b45-bd21-46e4-c17a-8c5f8c29bbbb"
      },
      "execution_count": 6,
      "outputs": [
        {
          "output_type": "stream",
          "name": "stdout",
          "text": [
            "drive  sample_data  temp\n"
          ]
        }
      ]
    },
    {
      "cell_type": "code",
      "source": [
        "!mkdir temp"
      ],
      "metadata": {
        "id": "0wony7LTnOnh"
      },
      "execution_count": 4,
      "outputs": []
    },
    {
      "cell_type": "code",
      "source": [
        "!ls"
      ],
      "metadata": {
        "colab": {
          "base_uri": "https://localhost:8080/"
        },
        "id": "x7lE_rcunRM5",
        "outputId": "fa185427-2ac5-46af-e1a5-ac93957b1852"
      },
      "execution_count": 7,
      "outputs": [
        {
          "output_type": "stream",
          "name": "stdout",
          "text": [
            "drive  sample_data  temp\n"
          ]
        }
      ]
    },
    {
      "cell_type": "code",
      "source": [
        "%%debug\n",
        "i = 0\n",
        "y = 0\n",
        "while (i<5):\n",
        "  y = 1\n",
        "  i += 1"
      ],
      "metadata": {
        "colab": {
          "base_uri": "https://localhost:8080/"
        },
        "id": "aQQ6kbQbnkCg",
        "outputId": "e4e1f520-e20f-4074-9664-74381b5da034"
      },
      "execution_count": 14,
      "outputs": [
        {
          "name": "stdout",
          "output_type": "stream",
          "text": [
            "NOTE: Enter 'c' at the ipdb>  prompt to continue execution.\n",
            "> \u001b[0;32m<string>\u001b[0m(2)\u001b[0;36m<module>\u001b[0;34m()\u001b[0m\n",
            "\n",
            "ipdb> y\n",
            "1\n",
            "ipdb> i\n",
            "5\n",
            "ipdb> c\n"
          ]
        }
      ]
    },
    {
      "cell_type": "code",
      "source": [
        "import torch"
      ],
      "metadata": {
        "id": "Kam5wluIp1b8"
      },
      "execution_count": 2,
      "outputs": []
    },
    {
      "cell_type": "code",
      "source": [
        "%timeit torch.randn((4000,4000)).cuda()\n",
        "%timeit torch.randn((4000,4000))\n",
        "!nvidia-smi"
      ],
      "metadata": {
        "colab": {
          "base_uri": "https://localhost:8080/"
        },
        "id": "OAOx94T9pvB8",
        "outputId": "6c62a610-1dff-416e-f99b-15161f798535"
      },
      "execution_count": 6,
      "outputs": [
        {
          "output_type": "stream",
          "name": "stdout",
          "text": [
            "153 ms ± 29.5 ms per loop (mean ± std. dev. of 7 runs, 10 loops each)\n",
            "140 ms ± 31.7 ms per loop (mean ± std. dev. of 7 runs, 10 loops each)\n",
            "Thu Mar  9 14:55:12 2023       \n",
            "+-----------------------------------------------------------------------------+\n",
            "| NVIDIA-SMI 525.85.12    Driver Version: 525.85.12    CUDA Version: 12.0     |\n",
            "|-------------------------------+----------------------+----------------------+\n",
            "| GPU  Name        Persistence-M| Bus-Id        Disp.A | Volatile Uncorr. ECC |\n",
            "| Fan  Temp  Perf  Pwr:Usage/Cap|         Memory-Usage | GPU-Util  Compute M. |\n",
            "|                               |                      |               MIG M. |\n",
            "|===============================+======================+======================|\n",
            "|   0  Tesla T4            Off  | 00000000:00:04.0 Off |                    0 |\n",
            "| N/A   49C    P0    27W /  70W |    631MiB / 15360MiB |      0%      Default |\n",
            "|                               |                      |                  N/A |\n",
            "+-------------------------------+----------------------+----------------------+\n",
            "                                                                               \n",
            "+-----------------------------------------------------------------------------+\n",
            "| Processes:                                                                  |\n",
            "|  GPU   GI   CI        PID   Type   Process name                  GPU Memory |\n",
            "|        ID   ID                                                   Usage      |\n",
            "|=============================================================================|\n",
            "+-----------------------------------------------------------------------------+\n"
          ]
        }
      ]
    },
    {
      "cell_type": "code",
      "source": [
        "\"\"\"\n",
        "Когда мы объявляем переменную внутри класса, но вне метода, она \n",
        "называется статической переменной или переменной класса. \n",
        "Ее можно вызвать непосредственно из класса, но не через экземпляры класса. \n",
        "Она привязана к классу, а не к объекту класса.\n",
        "Статический метод можно вызвать без создания объекта для класса.\n",
        "\"\"\"\n",
        "\n",
        "class Employee: # create Employee class name \n",
        "    dept = 'Information technology'  # define class variable \n",
        "    def __init__(self, name, id): \n",
        "        self.name = name       # instance variable \n",
        "        self.id = id             # instance variable \n",
        " \n",
        "# Define the objects of Employee class \n",
        "emp1 = Employee('John', 'E101')         \n",
        "emp2 = Employee('Marcus', 'E105') \n",
        "\n",
        "print(emp1.dept)  \n",
        "print(emp2.dept)  \n",
        "print(emp1.name)  \n",
        "print(emp2.name)  \n",
        "print(emp1.id)   \n",
        "print(emp2.id)  \n",
        " \n",
        "# Access class variable using the class name \n",
        "print(Employee.dept) # print the department \n",
        " \n",
        "# change the department of particular instance \n",
        "emp1.dept = 'Networking' \n",
        "print(emp1.dept)  \n",
        "print(emp2.dept)  \n",
        " \n",
        "# change the department for all instances of the class \n",
        "Employee.dept = 'Database Administration' \n",
        "print(emp1.dept)  \n",
        "print(emp2.dept)"
      ],
      "metadata": {
        "colab": {
          "base_uri": "https://localhost:8080/"
        },
        "id": "JUK_hkBAILjQ",
        "outputId": "282d4de1-2472-4f85-d0ad-87e0cc5dac1e"
      },
      "execution_count": 3,
      "outputs": [
        {
          "output_type": "stream",
          "name": "stdout",
          "text": [
            "Information technology\n",
            "Information technology\n",
            "John\n",
            "Marcus\n",
            "E101\n",
            "E105\n",
            "Information technology\n",
            "Networking\n",
            "Information technology\n",
            "Networking\n",
            "Database Administration\n"
          ]
        }
      ]
    }
  ]
}